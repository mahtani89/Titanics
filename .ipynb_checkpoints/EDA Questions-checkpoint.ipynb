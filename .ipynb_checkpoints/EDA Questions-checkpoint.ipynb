{
 "cells": [
  {
   "cell_type": "markdown",
   "metadata": {},
   "source": [
    "# Titanics Questions"
   ]
  },
  {
   "cell_type": "code",
   "execution_count": 1,
   "metadata": {},
   "outputs": [],
   "source": [
    "import numpy as np\n",
    "import pandas as pd\n",
    "import matplotlib.pyplot as plt"
   ]
  },
  {
   "cell_type": "markdown",
   "metadata": {},
   "source": [
    "# Read in the test data using the following line"
   ]
  },
  {
   "cell_type": "code",
   "execution_count": 2,
   "metadata": {},
   "outputs": [],
   "source": [
    "#raw_training=pd.read_csv('/Users/deepakmahtani/.kaggle/competitions/titanic/train.csv')"
   ]
  },
  {
   "cell_type": "code",
   "execution_count": 4,
   "metadata": {},
   "outputs": [],
   "source": [
    "raw_training=pd.read_csv('train.csv')"
   ]
  },
  {
   "cell_type": "markdown",
   "metadata": {},
   "source": [
    "# Question 1: How many entries (i.e rows) are there in the data?"
   ]
  },
  {
   "cell_type": "code",
   "execution_count": 5,
   "metadata": {},
   "outputs": [
    {
     "name": "stdout",
     "output_type": "stream",
     "text": [
      "The raw data contains 891 entries\n"
     ]
    }
   ],
   "source": [
    "print('The raw data contains', len(raw_training), 'entries')"
   ]
  },
  {
   "cell_type": "markdown",
   "metadata": {},
   "source": [
    "# Question 2: Which columns have null values and how many in missing values are there in each?"
   ]
  },
  {
   "cell_type": "code",
   "execution_count": 6,
   "metadata": {
    "collapsed": true
   },
   "outputs": [
    {
     "name": "stdout",
     "output_type": "stream",
     "text": [
      "<class 'pandas.core.frame.DataFrame'>\n",
      "RangeIndex: 891 entries, 0 to 890\n",
      "Data columns (total 12 columns):\n",
      "PassengerId    891 non-null int64\n",
      "Survived       891 non-null int64\n",
      "Pclass         891 non-null int64\n",
      "Name           891 non-null object\n",
      "Sex            891 non-null object\n",
      "Age            714 non-null float64\n",
      "SibSp          891 non-null int64\n",
      "Parch          891 non-null int64\n",
      "Ticket         891 non-null object\n",
      "Fare           891 non-null float64\n",
      "Cabin          204 non-null object\n",
      "Embarked       889 non-null object\n",
      "dtypes: float64(2), int64(5), object(5)\n",
      "memory usage: 83.6+ KB\n"
     ]
    }
   ],
   "source": [
    "raw_training.info()"
   ]
  },
  {
   "cell_type": "code",
   "execution_count": null,
   "metadata": {},
   "outputs": [],
   "source": [
    "#print('The columns that are missing values are the age,',(891-714),',the cabin,',(891-204),\n",
    "#      ',and the embarked,',(891-889),'columns')"
   ]
  },
  {
   "cell_type": "code",
   "execution_count": 19,
   "metadata": {},
   "outputs": [
    {
     "name": "stdout",
     "output_type": "stream",
     "text": [
      "The columns that are missing values are the age are, 177 ,the cabin,687, and the embarked,2.\n"
     ]
    }
   ],
   "source": [
    "print('The columns that are missing values are the age are, %s ,the cabin, %s, and the embarked, %s.'%((891-714),(891-204),(891-889)))"
   ]
  },
  {
   "cell_type": "markdown",
   "metadata": {},
   "source": [
    "# Question 3: Ignoring the missing values, what is the mean, median and standard devation of ages of the passengers on the ship and what is the distribution of their ages"
   ]
  },
  {
   "cell_type": "code",
   "execution_count": null,
   "metadata": {},
   "outputs": [],
   "source": [
    "#ages=raw_training[pd.notnull(raw_training['Age'])]['Age']\n",
    "\n",
    "#mean_age=np.mean(ages)\n",
    "#print('The mean age of those on the ship, ignoring the missing values, is ', mean_age)\n",
    "\n",
    "#median_age=np.median(ages)\n",
    "#print('The median age of those on the ship, ignoring the missing values, is ', median_age)\n",
    "\n",
    "#SD_age=np.std(ages)\n",
    "#print('The standard deviation of age of those on the ship, ignoring the missing values, is ', SD_age)\n",
    "\n",
    "#ages.plot(kind='hist')"
   ]
  },
  {
   "cell_type": "code",
   "execution_count": 13,
   "metadata": {},
   "outputs": [
    {
     "name": "stdout",
     "output_type": "stream",
     "text": [
      "Ignoring the missing values, the mean age is 29.7, the median age is 28.0 and the STDEV age is 14.52\n"
     ]
    }
   ],
   "source": [
    "ages=raw_training[pd.notnull(raw_training['Age'])]['Age']\n",
    "\n",
    "mean_age=np.mean(ages)\n",
    "median_age=np.median(ages)\n",
    "SD_age=np.std(ages)\n",
    "\n",
    "print('Ignoring the missing values, the mean age is %s, the median age is %s and the STDEV age is %s' \n",
    "      %(round(mean_age,2),round(median_age,2),round(SD_age,2)))\n"
   ]
  },
  {
   "cell_type": "markdown",
   "metadata": {},
   "source": [
    "# Question 4: how many men and women were aboard the ship"
   ]
  },
  {
   "cell_type": "code",
   "execution_count": null,
   "metadata": {},
   "outputs": [],
   "source": [
    "#male=raw_training['Sex'][raw_training['Sex'] == 'male']\n",
    "#print('Number of men on ship', len(male))\n",
    "\n",
    "#female=raw_training['Sex'][raw_training['Sex'] == 'female']\n",
    "#print('Number of women on ship', len(female))"
   ]
  },
  {
   "cell_type": "code",
   "execution_count": 16,
   "metadata": {},
   "outputs": [
    {
     "name": "stdout",
     "output_type": "stream",
     "text": [
      "The number of men on the ship is 577 and the number of women on the ship is 314\n"
     ]
    }
   ],
   "source": [
    "male=raw_training['Sex'][raw_training['Sex'] == 'male']\n",
    "female=raw_training['Sex'][raw_training['Sex'] == 'female']\n",
    "\n",
    "print('The number of men on the ship is %s and the number of women on the ship is %s' %(len(male),len(female)))"
   ]
  },
  {
   "cell_type": "markdown",
   "metadata": {},
   "source": [
    "# Question 5: How many men and how many women survived"
   ]
  },
  {
   "cell_type": "code",
   "execution_count": null,
   "metadata": {},
   "outputs": [],
   "source": [
    "#men=raw_training[['Sex','Survived']][raw_training['Sex'] == 'male']\n",
    "#men_survived=men[men['Survived'] == 1]\n",
    "#print('The Number of men who survived is ', len(men_survived))\n",
    "\n",
    "#women=raw_training[['Sex','Survived']][raw_training['Sex'] == 'female']\n",
    "#women_survived=women[women['Survived'] == 1]\n",
    "#print('The Number of women who survived is ', len(women_survived))"
   ]
  },
  {
   "cell_type": "code",
   "execution_count": 18,
   "metadata": {},
   "outputs": [
    {
     "name": "stdout",
     "output_type": "stream",
     "text": [
      "The Number of Men who survived is 109 and the number of women who survived is 233\n"
     ]
    }
   ],
   "source": [
    "men=raw_training[['Sex','Survived']][raw_training['Sex'] == 'male']\n",
    "men_survived=men[men['Survived'] == 1]\n",
    "\n",
    "women=raw_training[['Sex','Survived']][raw_training['Sex'] == 'female']\n",
    "women_survived=women[women['Survived'] == 1]\n",
    "\n",
    "print('The Number of Men who survived is %s and the number of women who survived is %s' %(len(men_survived),len(women_survived)))"
   ]
  },
  {
   "cell_type": "code",
   "execution_count": null,
   "metadata": {},
   "outputs": [],
   "source": []
  }
 ],
 "metadata": {
  "kernelspec": {
   "display_name": "Python 3",
   "language": "python",
   "name": "python3"
  },
  "language_info": {
   "codemirror_mode": {
    "name": "ipython",
    "version": 3
   },
   "file_extension": ".py",
   "mimetype": "text/x-python",
   "name": "python",
   "nbconvert_exporter": "python",
   "pygments_lexer": "ipython3",
   "version": "3.6.4"
  }
 },
 "nbformat": 4,
 "nbformat_minor": 2
}
